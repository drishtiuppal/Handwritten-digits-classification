{
 "cells": [
  {
   "cell_type": "markdown",
   "id": "018ac625",
   "metadata": {},
   "source": [
    "#                   Handwritten digits classification using neural network"
   ]
  },
  {
   "cell_type": "code",
   "execution_count": 109,
   "id": "526eb371",
   "metadata": {},
   "outputs": [],
   "source": [
    "import warnings\n",
    "warnings.filterwarnings('ignore')"
   ]
  },
  {
   "cell_type": "markdown",
   "id": "1dc52c5e",
   "metadata": {},
   "source": [
    "#### Divide the dataset into training and testing set."
   ]
  },
  {
   "cell_type": "code",
   "execution_count": 110,
   "id": "ee862f10",
   "metadata": {},
   "outputs": [],
   "source": [
    "from tensorflow.keras.datasets import mnist\n",
    "(x_train, y_train), (x_test, y_test) = mnist.load_data()"
   ]
  },
  {
   "cell_type": "code",
   "execution_count": 111,
   "id": "bdd9b335",
   "metadata": {},
   "outputs": [
    {
     "data": {
      "text/plain": [
       "((60000, 28, 28), (60000,))"
      ]
     },
     "execution_count": 111,
     "metadata": {},
     "output_type": "execute_result"
    }
   ],
   "source": [
    "x_train.shape,y_train.shape"
   ]
  },
  {
   "cell_type": "markdown",
   "id": "308ef877",
   "metadata": {},
   "source": [
    "### Normalization is performed to scale the pixel values."
   ]
  },
  {
   "cell_type": "code",
   "execution_count": 112,
   "id": "0c1430fc",
   "metadata": {},
   "outputs": [],
   "source": [
    "x_train = x_train / 255\n",
    "x_test = x_test / 255"
   ]
  },
  {
   "cell_type": "markdown",
   "id": "6c848b3a",
   "metadata": {},
   "source": [
    " ### Image shape is (28,28) i.e. 2D array. We will flatten it into 1D array by resizing it."
   ]
  },
  {
   "cell_type": "code",
   "execution_count": 113,
   "id": "a25a4e8a",
   "metadata": {},
   "outputs": [],
   "source": [
    "from tensorflow.keras.models import Model\n",
    "from tensorflow.keras.layers import Dense, Reshape, Input\n",
    "\n",
    "in_layer= Input((28,28))\n",
    "flat=Reshape((784,))(in_layer)\n",
    "\n",
    "d1=Dense(units=500,activation=\"relu\")(flat)   # In Dense layer all the neurons on one layer is connected to all the neurons in the second layer \n",
    "d2=Dense(units=100,activation=\"relu\")(d1)      \n",
    "d3=Dense(units=10,activation=\"sigmoid\")(d2)   # Sigmoid converts input between the range of 0 and 1.  \n"
   ]
  },
  {
   "cell_type": "code",
   "execution_count": 114,
   "id": "07fc4174",
   "metadata": {},
   "outputs": [],
   "source": [
    "model=Model(in_layer,d3)"
   ]
  },
  {
   "cell_type": "code",
   "execution_count": 115,
   "id": "c720c43e",
   "metadata": {},
   "outputs": [
    {
     "name": "stdout",
     "output_type": "stream",
     "text": [
      "Model: \"model_2\"\n",
      "_________________________________________________________________\n",
      " Layer (type)                Output Shape              Param #   \n",
      "=================================================================\n",
      " input_3 (InputLayer)        [(None, 28, 28)]          0         \n",
      "                                                                 \n",
      " reshape_2 (Reshape)         (None, 784)               0         \n",
      "                                                                 \n",
      " dense_6 (Dense)             (None, 500)               392500    \n",
      "                                                                 \n",
      " dense_7 (Dense)             (None, 100)               50100     \n",
      "                                                                 \n",
      " dense_8 (Dense)             (None, 10)                1010      \n",
      "                                                                 \n",
      "=================================================================\n",
      "Total params: 443610 (1.69 MB)\n",
      "Trainable params: 443610 (1.69 MB)\n",
      "Non-trainable params: 0 (0.00 Byte)\n",
      "_________________________________________________________________\n"
     ]
    }
   ],
   "source": [
    "model.summary()"
   ]
  },
  {
   "cell_type": "code",
   "execution_count": 116,
   "id": "cb44e811",
   "metadata": {},
   "outputs": [],
   "source": [
    "model.compile(optimizer=\"adam\", loss='sparse_categorical_crossentropy',metrics=[\"accuracy\"])"
   ]
  },
  {
   "cell_type": "code",
   "execution_count": 117,
   "id": "1debe084",
   "metadata": {},
   "outputs": [
    {
     "data": {
      "text/plain": [
       "(60000,)"
      ]
     },
     "execution_count": 117,
     "metadata": {},
     "output_type": "execute_result"
    }
   ],
   "source": [
    "y_train.shape"
   ]
  },
  {
   "cell_type": "code",
   "execution_count": 118,
   "id": "e76a421b",
   "metadata": {},
   "outputs": [
    {
     "name": "stdout",
     "output_type": "stream",
     "text": [
      "Epoch 1/10\n",
      "60/60 [==============================] - 2s 17ms/step - loss: 0.5111 - accuracy: 0.8624\n",
      "Epoch 2/10\n",
      "60/60 [==============================] - 1s 17ms/step - loss: 0.1801 - accuracy: 0.9493\n",
      "Epoch 3/10\n",
      "60/60 [==============================] - 1s 16ms/step - loss: 0.1276 - accuracy: 0.9638\n",
      "Epoch 4/10\n",
      "60/60 [==============================] - 1s 16ms/step - loss: 0.0955 - accuracy: 0.9727\n",
      "Epoch 5/10\n",
      "60/60 [==============================] - 1s 16ms/step - loss: 0.0742 - accuracy: 0.9787\n",
      "Epoch 6/10\n",
      "60/60 [==============================] - 1s 16ms/step - loss: 0.0600 - accuracy: 0.9827\n",
      "Epoch 7/10\n",
      "60/60 [==============================] - 1s 16ms/step - loss: 0.0485 - accuracy: 0.9863\n",
      "Epoch 8/10\n",
      "60/60 [==============================] - 1s 16ms/step - loss: 0.0382 - accuracy: 0.9896\n",
      "Epoch 9/10\n",
      "60/60 [==============================] - 1s 16ms/step - loss: 0.0310 - accuracy: 0.9918\n",
      "Epoch 10/10\n",
      "60/60 [==============================] - 1s 17ms/step - loss: 0.0252 - accuracy: 0.9936\n"
     ]
    },
    {
     "data": {
      "text/plain": [
       "<keras.src.callbacks.History at 0x1875d64f7d0>"
      ]
     },
     "execution_count": 118,
     "metadata": {},
     "output_type": "execute_result"
    }
   ],
   "source": [
    "model.fit(x_train,y_train,epochs=10,batch_size=1000)"
   ]
  },
  {
   "cell_type": "code",
   "execution_count": 119,
   "id": "2ada55d3",
   "metadata": {
    "scrolled": true
   },
   "outputs": [
    {
     "name": "stdout",
     "output_type": "stream",
     "text": [
      "1/1 [==============================] - 0s 67ms/step\n"
     ]
    },
    {
     "data": {
      "text/plain": [
       "array([[1.2979327e-01, 1.6323529e-02, 5.7677156e-01, 9.6005541e-01,\n",
       "        1.2453598e-03, 1.8462652e-01, 1.1786981e-05, 9.9998116e-01,\n",
       "        1.1256861e-01, 7.1793747e-01]], dtype=float32)"
      ]
     },
     "execution_count": 119,
     "metadata": {},
     "output_type": "execute_result"
    }
   ],
   "source": [
    "predicted=model.predict(x_test[:1]) \n",
    "predicted"
   ]
  },
  {
   "cell_type": "markdown",
   "id": "e12a7ca1",
   "metadata": {},
   "source": [
    "### argmax gives the index of the maximum value "
   ]
  },
  {
   "cell_type": "code",
   "execution_count": 120,
   "id": "c8e54c33",
   "metadata": {},
   "outputs": [
    {
     "data": {
      "text/plain": [
       "7"
      ]
     },
     "execution_count": 120,
     "metadata": {},
     "output_type": "execute_result"
    }
   ],
   "source": [
    "import numpy as np\n",
    "np.argmax(predicted)  # Result"
   ]
  },
  {
   "cell_type": "code",
   "execution_count": 121,
   "id": "c4232e6f",
   "metadata": {},
   "outputs": [
    {
     "data": {
      "text/plain": [
       "<matplotlib.image.AxesImage at 0x1875d7d88d0>"
      ]
     },
     "execution_count": 121,
     "metadata": {},
     "output_type": "execute_result"
    },
    {
     "data": {
      "image/png": "[encoded data removed]",
      "text/plain": [
       "<Figure size 640x480 with 1 Axes>"
      ]
     },
     "metadata": {},
     "output_type": "display_data"
    }
   ],
   "source": [
    "import matplotlib.pyplot as plt\n",
    "plt.imshow(x_test[0])"
   ]
  },
  {
   "cell_type": "code",
   "execution_count": 122,
   "id": "4799da26",
   "metadata": {},
   "outputs": [
    {
     "name": "stdout",
     "output_type": "stream",
     "text": [
      "313/313 [==============================] - 1s 2ms/step\n"
     ]
    }
   ],
   "source": [
    "y_predicted= model.predict(x_test)"
   ]
  },
  {
   "cell_type": "code",
   "execution_count": 123,
   "id": "c815e6da",
   "metadata": {},
   "outputs": [
    {
     "data": {
      "text/plain": [
       "array([7, 2, 1, 0, 4, 1, 4, 9, 5, 9], dtype=uint8)"
      ]
     },
     "execution_count": 123,
     "metadata": {},
     "output_type": "execute_result"
    }
   ],
   "source": [
    "y_test[:10]"
   ]
  },
  {
   "cell_type": "code",
   "execution_count": 124,
   "id": "0923a380",
   "metadata": {},
   "outputs": [
    {
     "name": "stdout",
     "output_type": "stream",
     "text": [
      "313/313 [==============================] - 1s 3ms/step - loss: 0.0646 - accuracy: 0.9797\n"
     ]
    },
    {
     "data": {
      "text/plain": [
       "[0.06456021964550018, 0.9797000288963318]"
      ]
     },
     "execution_count": 124,
     "metadata": {},
     "output_type": "execute_result"
    }
   ],
   "source": [
    "model.evaluate(x_test, y_test)"
   ]
  },
  {
   "cell_type": "code",
   "execution_count": 125,
   "id": "1ceb773a",
   "metadata": {},
   "outputs": [],
   "source": [
    "y_predicted_labels = [np.argmax(i) for i in y_predicted]"
   ]
  },
  {
   "cell_type": "markdown",
   "id": "64cad54b",
   "metadata": {},
   "source": [
    "### Confusion Matrix"
   ]
  },
  {
   "cell_type": "code",
   "execution_count": 126,
   "id": "d1afc0ea",
   "metadata": {},
   "outputs": [
    {
     "data": {
      "text/plain": [
       "<tf.Tensor: shape=(10, 10), dtype=int32, numpy=\n",
       "array([[ 971,    1,    1,    1,    1,    1,    1,    1,    1,    1],\n",
       "       [   0, 1123,    3,    2,    0,    0,    2,    1,    4,    0],\n",
       "       [   4,    1, 1013,    3,    1,    0,    1,    4,    5,    0],\n",
       "       [   0,    0,    3,  997,    0,    1,    0,    4,    3,    2],\n",
       "       [   2,    0,    2,    1,  955,    0,    4,    3,    1,   14],\n",
       "       [   3,    0,    0,   10,    2,  864,    4,    1,    5,    3],\n",
       "       [   6,    3,    0,    1,    4,    5,  937,    0,    2,    0],\n",
       "       [   0,    2,    8,    1,    1,    0,    0, 1008,    1,    7],\n",
       "       [   3,    1,    3,    8,    4,    2,    1,    6,  941,    5],\n",
       "       [   2,    2,    0,    6,    5,    2,    0,    4,    0,  988]])>"
      ]
     },
     "execution_count": 126,
     "metadata": {},
     "output_type": "execute_result"
    }
   ],
   "source": [
    "import tensorflow as tf\n",
    "matrix=tf.math.confusion_matrix(labels=y_test,predictions=y_predicted_labels)\n",
    "matrix"
   ]
  },
  {
   "cell_type": "code",
   "execution_count": 127,
   "id": "f04424d4",
   "metadata": {},
   "outputs": [
    {
     "data": {
      "text/plain": [
       "Text(95.72222222222221, 0.5, 'Truth')"
      ]
     },
     "execution_count": 127,
     "metadata": {},
     "output_type": "execute_result"
    },
    {
     "data": {
      "image/png": "[encoded data removed]",
      "text/plain": [
       "<Figure size 1000x700 with 2 Axes>"
      ]
     },
     "metadata": {},
     "output_type": "display_data"
    }
   ],
   "source": [
    "import seaborn as sn\n",
    "plt.figure(figsize = (10,7))\n",
    "sn.heatmap(matrix, annot=True, fmt='d')\n",
    "plt.xlabel('Predicted')\n",
    "plt.ylabel('Truth')"
   ]
  },
  {
   "cell_type": "markdown",
   "id": "b147ac6a",
   "metadata": {},
   "source": [
    "## Accuracy: 98%"
   ]
  },
  {
   "cell_type": "code",
   "execution_count": 128,
   "id": "113fc75a",
   "metadata": {},
   "outputs": [],
   "source": [
    "from tensorflow.keras.preprocessing.image import load_img\n",
    "img=load_img(r\"C:\\Users\\Dell\\downloads\\WhatsApp Image 2023-04-10 at 9.37.05 PM.jpeg\",grayscale=True, target_size=(28,28))"
   ]
  },
  {
   "cell_type": "code",
   "execution_count": 129,
   "id": "2f47c1e8",
   "metadata": {},
   "outputs": [
    {
     "data": {
      "text/plain": [
       "<matplotlib.image.AxesImage at 0x1875f13da90>"
      ]
     },
     "execution_count": 129,
     "metadata": {},
     "output_type": "execute_result"
    },
    {
     "data": {
      "image/png": "[encoded data removed]",
      "text/plain": [
       "<Figure size 640x480 with 1 Axes>"
      ]
     },
     "metadata": {},
     "output_type": "display_data"
    }
   ],
   "source": [
    "plt.imshow(img,cmap='gray')"
   ]
  },
  {
   "cell_type": "markdown",
   "id": "e909c27d",
   "metadata": {},
   "source": [
    "### INVERT THE IMAGE"
   ]
  },
  {
   "cell_type": "code",
   "execution_count": 130,
   "id": "b44067be",
   "metadata": {},
   "outputs": [
    {
     "data": {
      "text/plain": [
       "<matplotlib.image.AxesImage at 0x18761385190>"
      ]
     },
     "execution_count": 130,
     "metadata": {},
     "output_type": "execute_result"
    },
    {
     "data": {
      "image/png": "[encoded data removed]",
      "text/plain": [
       "<Figure size 640x480 with 1 Axes>"
      ]
     },
     "metadata": {},
     "output_type": "display_data"
    }
   ],
   "source": [
    "arr=np.array(img)\n",
    "inv=((255-arr)>150)*255     # Make everything white(255) if it is greater than 150, else Black(0).     \n",
    "plt.imshow(inv,cmap='gray')"
   ]
  },
  {
   "cell_type": "code",
   "execution_count": 131,
   "id": "c326a2d2",
   "metadata": {},
   "outputs": [
    {
     "name": "stdout",
     "output_type": "stream",
     "text": [
      "1/1 [==============================] - 0s 56ms/step\n"
     ]
    },
    {
     "data": {
      "text/plain": [
       "array([2], dtype=int64)"
      ]
     },
     "execution_count": 131,
     "metadata": {},
     "output_type": "execute_result"
    }
   ],
   "source": [
    "model.predict(np.array([inv])).argmax(axis=1)"
   ]
  },
  {
   "cell_type": "markdown",
   "id": "3619ae28",
   "metadata": {},
   "source": [
    "### -----------------------------------------------------------------------END-------------------------------------------------------------------------------"
   ]
  }
 ],
 "metadata": {
  "kernelspec": {
   "display_name": "Python 3 (ipykernel)",
   "language": "python",
   "name": "python3"
  },
  "language_info": {
   "codemirror_mode": {
    "name": "ipython",
    "version": 3
   },
   "file_extension": ".py",
   "mimetype": "text/x-python",
   "name": "python",
   "nbconvert_exporter": "python",
   "pygments_lexer": "ipython3",
   "version": "3.11.4"
  }
 },
 "nbformat": 4,
 "nbformat_minor": 5
}
